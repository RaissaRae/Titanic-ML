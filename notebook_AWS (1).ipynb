{
 "cells": [
  {
   "cell_type": "markdown",
   "id": "85706050",
   "metadata": {},
   "source": [
    "This file was done by Raissa Rae Makonga - r0917910"
   ]
  },
  {
   "cell_type": "markdown",
   "id": "5dea15f3",
   "metadata": {},
   "source": [
    "# AWS MODEL TRAINING AND PREDICATION"
   ]
  },
  {
   "cell_type": "code",
   "execution_count": 32,
   "id": "075b91b2",
   "metadata": {},
   "outputs": [],
   "source": [
    "import boto3"
   ]
  },
  {
   "cell_type": "code",
   "execution_count": 33,
   "id": "314c6f1d",
   "metadata": {},
   "outputs": [],
   "source": [
    "# Initialize the S3 client\n",
    "s3_client = boto3.client('s3')"
   ]
  },
  {
   "cell_type": "markdown",
   "id": "258e586d",
   "metadata": {},
   "source": [
    "checking to find out the name of the bucket. I could not create the buckets so I decided to find out what the bucket is called. It changed everytime I started a whole new lab."
   ]
  },
  {
   "cell_type": "code",
   "execution_count": 34,
   "id": "dcb0f361",
   "metadata": {},
   "outputs": [
    {
     "name": "stdout",
     "output_type": "stream",
     "text": [
      "c135194a3427158l8032598t1w180188141800-labbucket-quds1nvfkabj\n",
      "sagemaker-us-east-1-180188141800\n"
     ]
    }
   ],
   "source": [
    "response = s3_client.list_buckets()\n",
    "\n",
    "# Print bucket names\n",
    "for bucket in response['Buckets']:\n",
    "    print(bucket['Name'])"
   ]
  },
  {
   "cell_type": "code",
   "execution_count": 35,
   "id": "fc79b5fd",
   "metadata": {},
   "outputs": [],
   "source": [
    "train_filename = 'final_train.csv'\n",
    "test_filename = 'final_test.csv'"
   ]
  },
  {
   "cell_type": "markdown",
   "id": "87b031f7",
   "metadata": {},
   "source": [
    "Created a folder called model-training to save all the files I had to."
   ]
  },
  {
   "cell_type": "code",
   "execution_count": 36,
   "id": "b1c9305d",
   "metadata": {},
   "outputs": [],
   "source": [
    "bucket='c135194a3427158l8032598t1w180188141800-labbucket-quds1nvfkabj'\n",
    "\n",
    "prefix='model-training/'"
   ]
  },
  {
   "cell_type": "markdown",
   "id": "83e0f461",
   "metadata": {},
   "source": [
    "Uploading the final cleaned datasets to the bucket."
   ]
  },
  {
   "cell_type": "code",
   "execution_count": 37,
   "id": "b5b8416a",
   "metadata": {},
   "outputs": [
    {
     "name": "stdout",
     "output_type": "stream",
     "text": [
      "Files uploaded to S3.\n"
     ]
    }
   ],
   "source": [
    "# Upload train_final.csv\n",
    "s3_client.upload_file(train_filename, bucket, f'{prefix}final_train.csv')\n",
    "\n",
    "# Upload test_final.csv\n",
    "s3_client.upload_file(test_filename, bucket, f'{prefix}final_test.csv')\n",
    "\n",
    "print(\"Files uploaded to S3.\")"
   ]
  },
  {
   "cell_type": "markdown",
   "id": "c042061e",
   "metadata": {},
   "source": [
    "Double checking to make that everything is correct."
   ]
  },
  {
   "cell_type": "code",
   "execution_count": 38,
   "id": "b467f727",
   "metadata": {},
   "outputs": [
    {
     "name": "stdout",
     "output_type": "stream",
     "text": [
      "model-training/final_test.csv\n",
      "model-training/final_train.csv\n"
     ]
    }
   ],
   "source": [
    "bucket_name = 'c135194a3427158l8032598t1w180188141800-labbucket-quds1nvfkabj'\n",
    "response = s3_client.list_objects_v2(Bucket=bucket_name)\n",
    "\n",
    "# Print the names of the objects\n",
    "if 'Contents' in response:\n",
    "    for obj in response['Contents']:\n",
    "        print(obj['Key'])\n",
    "else:\n",
    "    print(\"No objects found in the bucket.\")"
   ]
  },
  {
   "cell_type": "markdown",
   "id": "33d24390",
   "metadata": {},
   "source": [
    "Initialize the SageMaker session and get the execution role to get permission to interact with AWS"
   ]
  },
  {
   "cell_type": "code",
   "execution_count": null,
   "id": "d964bb67",
   "metadata": {},
   "outputs": [],
   "source": [
    "import sagemaker\n",
    "from sagemaker import get_execution_role\n",
    "\n",
    "role = get_execution_role()  # This gets the IAM role for your notebook or script\n",
    "sagemaker_session = sagemaker.Session()"
   ]
  },
  {
   "cell_type": "markdown",
   "id": "99978d0b",
   "metadata": {},
   "source": [
    "## Training the model"
   ]
  },
  {
   "cell_type": "code",
   "execution_count": 40,
   "id": "614c0aea",
   "metadata": {},
   "outputs": [
    {
     "data": {
      "text/html": [
       "<pre style=\"white-space:pre;overflow-x:auto;line-height:normal;font-family:Menlo,'DejaVu Sans Mono',consolas,'Courier New',monospace\"><span style=\"color: #7fbfbf; text-decoration-color: #7fbfbf\">[11/22/24 10:41:35] </span><span style=\"color: #0069ff; text-decoration-color: #0069ff; font-weight: bold\">INFO    </span> Ignoring unnecessary instance type: <span style=\"color: #e100e1; text-decoration-color: #e100e1; font-style: italic\">None</span>.                            <a href=\"file:///home/ec2-user/anaconda3/envs/python3/lib/python3.10/site-packages/sagemaker/image_uris.py\" target=\"_blank\"><span style=\"color: #7f7f7f; text-decoration-color: #7f7f7f\">image_uris.py</span></a><span style=\"color: #7f7f7f; text-decoration-color: #7f7f7f\">:</span><a href=\"file:///home/ec2-user/anaconda3/envs/python3/lib/python3.10/site-packages/sagemaker/image_uris.py#523\" target=\"_blank\"><span style=\"color: #7f7f7f; text-decoration-color: #7f7f7f\">523</span></a>\n",
       "</pre>\n"
      ],
      "text/plain": [
       "\u001b[2;36m[11/22/24 10:41:35]\u001b[0m\u001b[2;36m \u001b[0m\u001b[1;38;2;0;105;255mINFO    \u001b[0m Ignoring unnecessary instance type: \u001b[3;38;2;225;0;225mNone\u001b[0m.                            \u001b]8;id=193684;file:///home/ec2-user/anaconda3/envs/python3/lib/python3.10/site-packages/sagemaker/image_uris.py\u001b\\\u001b[2mimage_uris.py\u001b[0m\u001b]8;;\u001b\\\u001b[2m:\u001b[0m\u001b]8;id=946713;file:///home/ec2-user/anaconda3/envs/python3/lib/python3.10/site-packages/sagemaker/image_uris.py#523\u001b\\\u001b[2m523\u001b[0m\u001b]8;;\u001b\\\n"
      ]
     },
     "metadata": {},
     "output_type": "display_data"
    },
    {
     "data": {
      "text/html": [
       "<pre style=\"white-space:pre;overflow-x:auto;line-height:normal;font-family:Menlo,'DejaVu Sans Mono',consolas,'Courier New',monospace\"><span style=\"color: #7fbfbf; text-decoration-color: #7fbfbf\">                    </span><span style=\"color: #0069ff; text-decoration-color: #0069ff; font-weight: bold\">INFO    </span> Creating training-job with name: xgboost-<span style=\"color: #008080; text-decoration-color: #008080; font-weight: bold\">2024</span>-11-22-10-41-35-494       <a href=\"file:///home/ec2-user/anaconda3/envs/python3/lib/python3.10/site-packages/sagemaker/session.py\" target=\"_blank\"><span style=\"color: #7f7f7f; text-decoration-color: #7f7f7f\">session.py</span></a><span style=\"color: #7f7f7f; text-decoration-color: #7f7f7f\">:</span><a href=\"file:///home/ec2-user/anaconda3/envs/python3/lib/python3.10/site-packages/sagemaker/session.py#1042\" target=\"_blank\"><span style=\"color: #7f7f7f; text-decoration-color: #7f7f7f\">1042</span></a>\n",
       "</pre>\n"
      ],
      "text/plain": [
       "\u001b[2;36m                   \u001b[0m\u001b[2;36m \u001b[0m\u001b[1;38;2;0;105;255mINFO    \u001b[0m Creating training-job with name: xgboost-\u001b[1;36m2024\u001b[0m-11-22-10-41-35-494       \u001b]8;id=893944;file:///home/ec2-user/anaconda3/envs/python3/lib/python3.10/site-packages/sagemaker/session.py\u001b\\\u001b[2msession.py\u001b[0m\u001b]8;;\u001b\\\u001b[2m:\u001b[0m\u001b]8;id=754584;file:///home/ec2-user/anaconda3/envs/python3/lib/python3.10/site-packages/sagemaker/session.py#1042\u001b\\\u001b[2m1042\u001b[0m\u001b]8;;\u001b\\\n"
      ]
     },
     "metadata": {},
     "output_type": "display_data"
    },
    {
     "name": "stdout",
     "output_type": "stream",
     "text": [
      "2024-11-22 10:41:37 Starting - Starting the training job...\n",
      "2024-11-22 10:41:51 Starting - Preparing the instances for training...\n",
      "2024-11-22 10:42:24 Downloading - Downloading input data...\n",
      "2024-11-22 10:43:09 Downloading - Downloading the training image.....\u001b[34mArguments: train\u001b[0m\n",
      "\u001b[34m[2024-11-22:10:43:49:INFO] Running standalone xgboost training.\u001b[0m\n",
      "\u001b[34m[2024-11-22:10:43:49:INFO] File size need to be processed in the node: 0.03mb. Available memory size in the node: 246.06mb\u001b[0m\n",
      "\u001b[34m[2024-11-22:10:43:49:INFO] Determined delimiter of CSV input is ','\u001b[0m\n",
      "\u001b[34m[10:43:49] S3DistributionType set as FullyReplicated\u001b[0m\n",
      "\u001b[34m[10:43:49] 891x7 matrix with 6237 entries loaded from /opt/ml/input/data/train?format=csv&label_column=0&delimiter=,\u001b[0m\n",
      "\u001b[34m[2024-11-22:10:43:49:INFO] Determined delimiter of CSV input is ','\u001b[0m\n",
      "\u001b[34m[10:43:49] S3DistributionType set as FullyReplicated\u001b[0m\n",
      "\u001b[34m[10:43:49] 418x7 matrix with 2926 entries loaded from /opt/ml/input/data/validation?format=csv&label_column=0&delimiter=,\u001b[0m\n",
      "\u001b[34m[10:43:49] src/tree/updater_prune.cc:74: tree pruning end, 1 roots, 34 extra nodes, 0 pruned nodes, max_depth=6\u001b[0m\n",
      "\u001b[34m[0]#011train-error:0.139169#011validation-error:326.797\u001b[0m\n",
      "\u001b[34m[10:43:49] src/tree/updater_prune.cc:74: tree pruning end, 1 roots, 32 extra nodes, 0 pruned nodes, max_depth=6\u001b[0m\n",
      "\u001b[34m[1]#011train-error:0.141414#011validation-error:382.818\u001b[0m\n",
      "\u001b[34m[10:43:49] src/tree/updater_prune.cc:74: tree pruning end, 1 roots, 32 extra nodes, 0 pruned nodes, max_depth=6\u001b[0m\n",
      "\u001b[34m[2]#011train-error:0.138047#011validation-error:351.813\u001b[0m\n",
      "\u001b[34m[10:43:49] src/tree/updater_prune.cc:74: tree pruning end, 1 roots, 32 extra nodes, 0 pruned nodes, max_depth=6\u001b[0m\n",
      "\u001b[34m[3]#011train-error:0.138047#011validation-error:346.629\u001b[0m\n",
      "\u001b[34m[10:43:49] src/tree/updater_prune.cc:74: tree pruning end, 1 roots, 34 extra nodes, 0 pruned nodes, max_depth=6\u001b[0m\n",
      "\u001b[34m[4]#011train-error:0.138047#011validation-error:351.813\u001b[0m\n",
      "\u001b[34m[10:43:49] src/tree/updater_prune.cc:74: tree pruning end, 1 roots, 46 extra nodes, 0 pruned nodes, max_depth=6\u001b[0m\n",
      "\u001b[34m[5]#011train-error:0.138047#011validation-error:346.629\u001b[0m\n",
      "\u001b[34m[10:43:49] src/tree/updater_prune.cc:74: tree pruning end, 1 roots, 50 extra nodes, 0 pruned nodes, max_depth=6\u001b[0m\n",
      "\u001b[34m[6]#011train-error:0.136925#011validation-error:351.813\u001b[0m\n",
      "\u001b[34m[10:43:49] src/tree/updater_prune.cc:74: tree pruning end, 1 roots, 50 extra nodes, 0 pruned nodes, max_depth=6\u001b[0m\n",
      "\u001b[34m[7]#011train-error:0.135802#011validation-error:367.629\u001b[0m\n",
      "\u001b[34m[10:43:49] src/tree/updater_prune.cc:74: tree pruning end, 1 roots, 50 extra nodes, 0 pruned nodes, max_depth=6\u001b[0m\n",
      "\u001b[34m[8]#011train-error:0.130191#011validation-error:372.684\u001b[0m\n",
      "\u001b[34m[10:43:49] src/tree/updater_prune.cc:74: tree pruning end, 1 roots, 54 extra nodes, 0 pruned nodes, max_depth=6\u001b[0m\n",
      "\u001b[34m[9]#011train-error:0.126824#011validation-error:363.048\u001b[0m\n",
      "\u001b[34m[10:43:49] src/tree/updater_prune.cc:74: tree pruning end, 1 roots, 64 extra nodes, 0 pruned nodes, max_depth=6\u001b[0m\n",
      "\u001b[34m[10]#011train-error:0.126824#011validation-error:368.232\u001b[0m\n",
      "\u001b[34m[10:43:49] src/tree/updater_prune.cc:74: tree pruning end, 1 roots, 66 extra nodes, 0 pruned nodes, max_depth=6\u001b[0m\n",
      "\u001b[34m[11]#011train-error:0.125701#011validation-error:373.287\u001b[0m\n",
      "\u001b[34m[10:43:49] src/tree/updater_prune.cc:74: tree pruning end, 1 roots, 64 extra nodes, 0 pruned nodes, max_depth=6\u001b[0m\n",
      "\u001b[34m[12]#011train-error:0.126824#011validation-error:368.285\u001b[0m\n",
      "\u001b[34m[10:43:49] src/tree/updater_prune.cc:74: tree pruning end, 1 roots, 70 extra nodes, 0 pruned nodes, max_depth=6\u001b[0m\n",
      "\u001b[34m[13]#011train-error:0.125701#011validation-error:373.048\u001b[0m\n",
      "\u001b[34m[10:43:49] src/tree/updater_prune.cc:74: tree pruning end, 1 roots, 66 extra nodes, 0 pruned nodes, max_depth=6\u001b[0m\n",
      "\u001b[34m[14]#011train-error:0.125701#011validation-error:372.919\u001b[0m\n",
      "\u001b[34m[10:43:49] src/tree/updater_prune.cc:74: tree pruning end, 1 roots, 66 extra nodes, 0 pruned nodes, max_depth=6\u001b[0m\n",
      "\u001b[34m[15]#011train-error:0.125701#011validation-error:372.919\u001b[0m\n",
      "\u001b[34m[10:43:49] src/tree/updater_prune.cc:74: tree pruning end, 1 roots, 66 extra nodes, 0 pruned nodes, max_depth=6\u001b[0m\n",
      "\u001b[34m[16]#011train-error:0.125701#011validation-error:388.902\u001b[0m\n",
      "\u001b[34m[10:43:49] src/tree/updater_prune.cc:74: tree pruning end, 1 roots, 62 extra nodes, 0 pruned nodes, max_depth=6\u001b[0m\n",
      "\u001b[34m[17]#011train-error:0.125701#011validation-error:366.629\u001b[0m\n",
      "\u001b[34m[10:43:49] src/tree/updater_prune.cc:74: tree pruning end, 1 roots, 72 extra nodes, 0 pruned nodes, max_depth=6\u001b[0m\n",
      "\u001b[34m[18]#011train-error:0.124579#011validation-error:377.318\u001b[0m\n",
      "\u001b[34m[10:43:49] src/tree/updater_prune.cc:74: tree pruning end, 1 roots, 64 extra nodes, 0 pruned nodes, max_depth=6\u001b[0m\n",
      "\u001b[34m[19]#011train-error:0.122334#011validation-error:377.318\u001b[0m\n",
      "\u001b[34m[10:43:49] src/tree/updater_prune.cc:74: tree pruning end, 1 roots, 52 extra nodes, 0 pruned nodes, max_depth=6\u001b[0m\n",
      "\u001b[34m[20]#011train-error:0.123457#011validation-error:380.632\u001b[0m\n",
      "\u001b[34m[10:43:49] src/tree/updater_prune.cc:74: tree pruning end, 1 roots, 52 extra nodes, 0 pruned nodes, max_depth=6\u001b[0m\n",
      "\u001b[34m[21]#011train-error:0.122334#011validation-error:375.447\u001b[0m\n",
      "\u001b[34m[10:43:49] src/tree/updater_prune.cc:74: tree pruning end, 1 roots, 50 extra nodes, 0 pruned nodes, max_depth=6\u001b[0m\n",
      "\u001b[34m[22]#011train-error:0.121212#011validation-error:375.447\u001b[0m\n",
      "\u001b[34m[10:43:49] src/tree/updater_prune.cc:74: tree pruning end, 1 roots, 58 extra nodes, 0 pruned nodes, max_depth=6\u001b[0m\n",
      "\u001b[34m[23]#011train-error:0.12009#011validation-error:380.632\u001b[0m\n",
      "\u001b[34m[10:43:49] src/tree/updater_prune.cc:74: tree pruning end, 1 roots, 58 extra nodes, 0 pruned nodes, max_depth=6\u001b[0m\n",
      "\u001b[34m[24]#011train-error:0.12009#011validation-error:380.632\u001b[0m\n",
      "\u001b[34m[10:43:49] src/tree/updater_prune.cc:74: tree pruning end, 1 roots, 48 extra nodes, 0 pruned nodes, max_depth=6\u001b[0m\n",
      "\u001b[34m[25]#011train-error:0.12009#011validation-error:380.632\u001b[0m\n",
      "\u001b[34m[10:43:49] src/tree/updater_prune.cc:74: tree pruning end, 1 roots, 50 extra nodes, 0 pruned nodes, max_depth=6\u001b[0m\n",
      "\u001b[34m[26]#011train-error:0.12009#011validation-error:375.447\u001b[0m\n",
      "\u001b[34m[10:43:49] src/tree/updater_prune.cc:74: tree pruning end, 1 roots, 52 extra nodes, 0 pruned nodes, max_depth=6\u001b[0m\n",
      "\u001b[34m[27]#011train-error:0.118967#011validation-error:375.447\u001b[0m\n",
      "\u001b[34m[10:43:49] src/tree/updater_prune.cc:74: tree pruning end, 1 roots, 52 extra nodes, 0 pruned nodes, max_depth=6\u001b[0m\n",
      "\u001b[34m[28]#011train-error:0.117845#011validation-error:361.66\u001b[0m\n",
      "\u001b[34m[10:43:49] src/tree/updater_prune.cc:74: tree pruning end, 1 roots, 60 extra nodes, 0 pruned nodes, max_depth=6\u001b[0m\n",
      "\u001b[34m[29]#011train-error:0.113356#011validation-error:367.481\u001b[0m\n",
      "\u001b[34m[10:43:49] src/tree/updater_prune.cc:74: tree pruning end, 1 roots, 56 extra nodes, 0 pruned nodes, max_depth=6\u001b[0m\n",
      "\u001b[34m[30]#011train-error:0.1156#011validation-error:361.555\u001b[0m\n",
      "\u001b[34m[31]#011train-error:0.113356#011validation-error:361.919\u001b[0m\n",
      "\u001b[34m[10:43:49] src/tree/updater_prune.cc:74: tree pruning end, 1 roots, 60 extra nodes, 0 pruned nodes, max_depth=6\u001b[0m\n",
      "\u001b[34m[10:43:49] src/tree/updater_prune.cc:74: tree pruning end, 1 roots, 52 extra nodes, 0 pruned nodes, max_depth=6\u001b[0m\n",
      "\u001b[34m[32]#011train-error:0.113356#011validation-error:361.919\u001b[0m\n",
      "\u001b[34m[10:43:49] src/tree/updater_prune.cc:74: tree pruning end, 1 roots, 62 extra nodes, 0 pruned nodes, max_depth=6\u001b[0m\n",
      "\u001b[34m[33]#011train-error:0.113356#011validation-error:361.919\u001b[0m\n",
      "\u001b[34m[10:43:49] src/tree/updater_prune.cc:74: tree pruning end, 1 roots, 56 extra nodes, 0 pruned nodes, max_depth=6\u001b[0m\n",
      "\u001b[34m[34]#011train-error:0.113356#011validation-error:353.139\u001b[0m\n",
      "\u001b[34m[10:43:49] src/tree/updater_prune.cc:74: tree pruning end, 1 roots, 48 extra nodes, 0 pruned nodes, max_depth=6\u001b[0m\n",
      "\u001b[34m[35]#011train-error:0.111111#011validation-error:358.342\u001b[0m\n",
      "\u001b[34m[10:43:49] src/tree/updater_prune.cc:74: tree pruning end, 1 roots, 50 extra nodes, 0 pruned nodes, max_depth=6\u001b[0m\n",
      "\u001b[34m[36]#011train-error:0.108866#011validation-error:353.211\u001b[0m\n",
      "\u001b[34m[10:43:49] src/tree/updater_prune.cc:74: tree pruning end, 1 roots, 50 extra nodes, 0 pruned nodes, max_depth=6\u001b[0m\n",
      "\u001b[34m[37]#011train-error:0.108866#011validation-error:375.565\u001b[0m\n",
      "\u001b[34m[10:43:49] src/tree/updater_prune.cc:74: tree pruning end, 1 roots, 52 extra nodes, 0 pruned nodes, max_depth=6\u001b[0m\n",
      "\u001b[34m[38]#011train-error:0.108866#011validation-error:375.565\u001b[0m\n",
      "\u001b[34m[10:43:49] src/tree/updater_prune.cc:74: tree pruning end, 1 roots, 38 extra nodes, 0 pruned nodes, max_depth=6\u001b[0m\n",
      "\u001b[34m[39]#011train-error:0.109989#011validation-error:369.639\u001b[0m\n",
      "\u001b[34m[10:43:49] src/tree/updater_prune.cc:74: tree pruning end, 1 roots, 50 extra nodes, 0 pruned nodes, max_depth=6\u001b[0m\n",
      "\u001b[34m[40]#011train-error:0.108866#011validation-error:370.801\u001b[0m\n",
      "\u001b[34m[10:43:49] src/tree/updater_prune.cc:74: tree pruning end, 1 roots, 36 extra nodes, 0 pruned nodes, max_depth=6\u001b[0m\n",
      "\u001b[34m[41]#011train-error:0.108866#011validation-error:364.876\u001b[0m\n",
      "\u001b[34m[10:43:49] src/tree/updater_prune.cc:74: tree pruning end, 1 roots, 22 extra nodes, 0 pruned nodes, max_depth=6\u001b[0m\n",
      "\u001b[34m[42]#011train-error:0.108866#011validation-error:360.304\u001b[0m\n",
      "\u001b[34m[10:43:49] src/tree/updater_prune.cc:74: tree pruning end, 1 roots, 22 extra nodes, 0 pruned nodes, max_depth=6\u001b[0m\n",
      "\u001b[34m[43]#011train-error:0.108866#011validation-error:354.344\u001b[0m\n",
      "\u001b[34m[10:43:49] src/tree/updater_prune.cc:74: tree pruning end, 1 roots, 50 extra nodes, 0 pruned nodes, max_depth=6\u001b[0m\n",
      "\u001b[34m[44]#011train-error:0.108866#011validation-error:360.304\u001b[0m\n",
      "\u001b[34m[10:43:49] src/tree/updater_prune.cc:74: tree pruning end, 1 roots, 18 extra nodes, 0 pruned nodes, max_depth=6\u001b[0m\n",
      "\u001b[34m[45]#011train-error:0.107744#011validation-error:354.344\u001b[0m\n",
      "\u001b[34m[10:43:49] src/tree/updater_prune.cc:74: tree pruning end, 1 roots, 36 extra nodes, 0 pruned nodes, max_depth=6\u001b[0m\n",
      "\u001b[34m[46]#011train-error:0.107744#011validation-error:360.27\u001b[0m\n",
      "\u001b[34m[10:43:49] src/tree/updater_prune.cc:74: tree pruning end, 1 roots, 18 extra nodes, 0 pruned nodes, max_depth=6\u001b[0m\n",
      "\u001b[34m[47]#011train-error:0.106622#011validation-error:360.27\u001b[0m\n",
      "\u001b[34m[10:43:49] src/tree/updater_prune.cc:74: tree pruning end, 1 roots, 36 extra nodes, 0 pruned nodes, max_depth=6\u001b[0m\n",
      "\u001b[34m[48]#011train-error:0.106622#011validation-error:354.344\u001b[0m\n",
      "\u001b[34m[10:43:49] src/tree/updater_prune.cc:74: tree pruning end, 1 roots, 36 extra nodes, 0 pruned nodes, max_depth=6\u001b[0m\n",
      "\u001b[34m[49]#011train-error:0.102132#011validation-error:370.222\u001b[0m\n",
      "\u001b[34m[10:43:49] src/tree/updater_prune.cc:74: tree pruning end, 1 roots, 18 extra nodes, 0 pruned nodes, max_depth=6\u001b[0m\n",
      "\u001b[34m[50]#011train-error:0.104377#011validation-error:370.222\u001b[0m\n",
      "\u001b[34m[10:43:49] src/tree/updater_prune.cc:74: tree pruning end, 1 roots, 32 extra nodes, 0 pruned nodes, max_depth=6\u001b[0m\n",
      "\u001b[34m[51]#011train-error:0.103255#011validation-error:370.222\u001b[0m\n",
      "\u001b[34m[10:43:49] src/tree/updater_prune.cc:74: tree pruning end, 1 roots, 20 extra nodes, 0 pruned nodes, max_depth=6\u001b[0m\n",
      "\u001b[34m[52]#011train-error:0.102132#011validation-error:370.222\u001b[0m\n",
      "\u001b[34m[10:43:49] src/tree/updater_prune.cc:74: tree pruning end, 1 roots, 38 extra nodes, 0 pruned nodes, max_depth=6\u001b[0m\n",
      "\u001b[34m[53]#011train-error:0.102132#011validation-error:370.222\u001b[0m\n",
      "\u001b[34m[10:43:49] src/tree/updater_prune.cc:74: tree pruning end, 1 roots, 24 extra nodes, 0 pruned nodes, max_depth=6\u001b[0m\n",
      "\u001b[34m[54]#011train-error:0.099888#011validation-error:370.222\u001b[0m\n",
      "\u001b[34m[10:43:49] src/tree/updater_prune.cc:74: tree pruning end, 1 roots, 50 extra nodes, 0 pruned nodes, max_depth=6\u001b[0m\n",
      "\u001b[34m[55]#011train-error:0.098765#011validation-error:376.182\u001b[0m\n",
      "\u001b[34m[10:43:49] src/tree/updater_prune.cc:74: tree pruning end, 1 roots, 14 extra nodes, 0 pruned nodes, max_depth=6\u001b[0m\n",
      "\u001b[34m[56]#011train-error:0.097643#011validation-error:376.182\u001b[0m\n",
      "\u001b[34m[10:43:49] src/tree/updater_prune.cc:74: tree pruning end, 1 roots, 38 extra nodes, 0 pruned nodes, max_depth=6\u001b[0m\n",
      "\u001b[34m[57]#011train-error:0.097643#011validation-error:376.182\u001b[0m\n",
      "\u001b[34m[10:43:49] src/tree/updater_prune.cc:74: tree pruning end, 1 roots, 16 extra nodes, 0 pruned nodes, max_depth=6\u001b[0m\n",
      "\u001b[34m[58]#011train-error:0.097643#011validation-error:376.182\u001b[0m\n",
      "\u001b[34m[10:43:49] src/tree/updater_prune.cc:74: tree pruning end, 1 roots, 46 extra nodes, 0 pruned nodes, max_depth=6\u001b[0m\n",
      "\u001b[34m[59]#011train-error:0.096521#011validation-error:370.222\u001b[0m\n",
      "\u001b[34m[10:43:49] src/tree/updater_prune.cc:74: tree pruning end, 1 roots, 38 extra nodes, 0 pruned nodes, max_depth=6\u001b[0m\n",
      "\u001b[34m[60]#011train-error:0.097643#011validation-error:370.222\u001b[0m\n",
      "\u001b[34m[10:43:49] src/tree/updater_prune.cc:74: tree pruning end, 1 roots, 38 extra nodes, 0 pruned nodes, max_depth=6\u001b[0m\n",
      "\u001b[34m[61]#011train-error:0.094276#011validation-error:370.222\u001b[0m\n",
      "\u001b[34m[10:43:49] src/tree/updater_prune.cc:74: tree pruning end, 1 roots, 14 extra nodes, 0 pruned nodes, max_depth=6\u001b[0m\n",
      "\u001b[34m[62]#011train-error:0.094276#011validation-error:370.222\u001b[0m\n",
      "\u001b[34m[10:43:49] src/tree/updater_prune.cc:74: tree pruning end, 1 roots, 14 extra nodes, 0 pruned nodes, max_depth=6\u001b[0m\n",
      "\u001b[34m[63]#011train-error:0.094276#011validation-error:370.222\u001b[0m\n",
      "\u001b[34m[10:43:49] src/tree/updater_prune.cc:74: tree pruning end, 1 roots, 48 extra nodes, 0 pruned nodes, max_depth=6\u001b[0m\n",
      "\u001b[34m[64]#011train-error:0.093154#011validation-error:360.529\u001b[0m\n",
      "\u001b[34m[10:43:49] src/tree/updater_prune.cc:74: tree pruning end, 1 roots, 14 extra nodes, 0 pruned nodes, max_depth=6\u001b[0m\n",
      "\u001b[34m[65]#011train-error:0.093154#011validation-error:360.529\u001b[0m\n",
      "\u001b[34m[10:43:49] src/tree/updater_prune.cc:74: tree pruning end, 1 roots, 12 extra nodes, 0 pruned nodes, max_depth=6\u001b[0m\n",
      "\u001b[34m[66]#011train-error:0.093154#011validation-error:360.529\u001b[0m\n",
      "\u001b[34m[10:43:49] src/tree/updater_prune.cc:74: tree pruning end, 1 roots, 28 extra nodes, 0 pruned nodes, max_depth=6\u001b[0m\n",
      "\u001b[34m[67]#011train-error:0.093154#011validation-error:360.529\u001b[0m\n",
      "\u001b[34m[10:43:49] src/tree/updater_prune.cc:74: tree pruning end, 1 roots, 52 extra nodes, 0 pruned nodes, max_depth=6\u001b[0m\n",
      "\u001b[34m[68]#011train-error:0.094276#011validation-error:360.529\u001b[0m\n",
      "\u001b[34m[10:43:49] src/tree/updater_prune.cc:74: tree pruning end, 1 roots, 48 extra nodes, 0 pruned nodes, max_depth=6\u001b[0m\n",
      "\u001b[34m[69]#011train-error:0.090909#011validation-error:376.947\u001b[0m\n",
      "\u001b[34m[10:43:49] src/tree/updater_prune.cc:74: tree pruning end, 1 roots, 22 extra nodes, 0 pruned nodes, max_depth=6\u001b[0m\n",
      "\u001b[34m[70]#011train-error:0.092031#011validation-error:372.117\u001b[0m\n",
      "\u001b[34m[10:43:49] src/tree/updater_prune.cc:74: tree pruning end, 1 roots, 54 extra nodes, 0 pruned nodes, max_depth=6\u001b[0m\n",
      "\u001b[34m[71]#011train-error:0.088664#011validation-error:372.117\u001b[0m\n",
      "\u001b[34m[10:43:49] src/tree/updater_prune.cc:74: tree pruning end, 1 roots, 56 extra nodes, 0 pruned nodes, max_depth=6\u001b[0m\n",
      "\u001b[34m[72]#011train-error:0.08642#011validation-error:372.117\u001b[0m\n",
      "\u001b[34m[10:43:49] src/tree/updater_prune.cc:74: tree pruning end, 1 roots, 42 extra nodes, 0 pruned nodes, max_depth=6\u001b[0m\n",
      "\u001b[34m[73]#011train-error:0.085297#011validation-error:372.117\u001b[0m\n",
      "\u001b[34m[10:43:49] src/tree/updater_prune.cc:74: tree pruning end, 1 roots, 46 extra nodes, 0 pruned nodes, max_depth=6\u001b[0m\n",
      "\u001b[34m[74]#011train-error:0.085297#011validation-error:376.947\u001b[0m\n",
      "\u001b[34m[10:43:49] src/tree/updater_prune.cc:74: tree pruning end, 1 roots, 34 extra nodes, 0 pruned nodes, max_depth=6\u001b[0m\n",
      "\u001b[34m[75]#011train-error:0.087542#011validation-error:372.117\u001b[0m\n",
      "\u001b[34m[10:43:49] src/tree/updater_prune.cc:74: tree pruning end, 1 roots, 32 extra nodes, 0 pruned nodes, max_depth=6\u001b[0m\n",
      "\u001b[34m[76]#011train-error:0.087542#011validation-error:372.117\u001b[0m\n",
      "\u001b[34m[10:43:49] src/tree/updater_prune.cc:74: tree pruning end, 1 roots, 48 extra nodes, 0 pruned nodes, max_depth=6\u001b[0m\n",
      "\u001b[34m[77]#011train-error:0.085297#011validation-error:376.813\u001b[0m\n",
      "\u001b[34m[10:43:49] src/tree/updater_prune.cc:74: tree pruning end, 1 roots, 26 extra nodes, 0 pruned nodes, max_depth=6\u001b[0m\n",
      "\u001b[34m[78]#011train-error:0.085297#011validation-error:376.813\u001b[0m\n",
      "\u001b[34m[10:43:49] src/tree/updater_prune.cc:74: tree pruning end, 1 roots, 32 extra nodes, 0 pruned nodes, max_depth=6\u001b[0m\n",
      "\u001b[34m[79]#011train-error:0.08642#011validation-error:376.813\u001b[0m\n",
      "\u001b[34m[10:43:49] src/tree/updater_prune.cc:74: tree pruning end, 1 roots, 48 extra nodes, 0 pruned nodes, max_depth=6\u001b[0m\n",
      "\u001b[34m[80]#011train-error:0.085297#011validation-error:381.098\u001b[0m\n",
      "\u001b[34m[10:43:49] src/tree/updater_prune.cc:74: tree pruning end, 1 roots, 22 extra nodes, 0 pruned nodes, max_depth=6\u001b[0m\n",
      "\u001b[34m[81]#011train-error:0.084175#011validation-error:381.098\u001b[0m\n",
      "\u001b[34m[10:43:49] src/tree/updater_prune.cc:74: tree pruning end, 1 roots, 34 extra nodes, 0 pruned nodes, max_depth=6\u001b[0m\n",
      "\u001b[34m[82]#011train-error:0.084175#011validation-error:376.574\u001b[0m\n",
      "\u001b[34m[10:43:49] src/tree/updater_prune.cc:74: tree pruning end, 1 roots, 30 extra nodes, 0 pruned nodes, max_depth=6\u001b[0m\n",
      "\u001b[34m[83]#011train-error:0.085297#011validation-error:376.574\u001b[0m\n",
      "\u001b[34m[10:43:49] src/tree/updater_prune.cc:74: tree pruning end, 1 roots, 48 extra nodes, 0 pruned nodes, max_depth=6\u001b[0m\n",
      "\u001b[34m[84]#011train-error:0.084175#011validation-error:372.289\u001b[0m\n",
      "\u001b[34m[10:43:49] src/tree/updater_prune.cc:74: tree pruning end, 1 roots, 30 extra nodes, 0 pruned nodes, max_depth=6\u001b[0m\n",
      "\u001b[34m[85]#011train-error:0.084175#011validation-error:367.914\u001b[0m\n",
      "\u001b[34m[10:43:49] src/tree/updater_prune.cc:74: tree pruning end, 1 roots, 32 extra nodes, 0 pruned nodes, max_depth=6\u001b[0m\n",
      "\u001b[34m[86]#011train-error:0.083053#011validation-error:367.914\u001b[0m\n",
      "\u001b[34m[10:43:49] src/tree/updater_prune.cc:74: tree pruning end, 1 roots, 22 extra nodes, 0 pruned nodes, max_depth=6\u001b[0m\n",
      "\u001b[34m[87]#011train-error:0.083053#011validation-error:367.914\u001b[0m\n",
      "\u001b[34m[10:43:49] src/tree/updater_prune.cc:74: tree pruning end, 1 roots, 46 extra nodes, 0 pruned nodes, max_depth=6\u001b[0m\n",
      "\u001b[34m[88]#011train-error:0.08193#011validation-error:372.199\u001b[0m\n",
      "\u001b[34m[10:43:49] src/tree/updater_prune.cc:74: tree pruning end, 1 roots, 26 extra nodes, 0 pruned nodes, max_depth=6\u001b[0m\n",
      "\u001b[34m[89]#011train-error:0.08193#011validation-error:372.199\u001b[0m\n",
      "\u001b[34m[10:43:49] src/tree/updater_prune.cc:74: tree pruning end, 1 roots, 42 extra nodes, 0 pruned nodes, max_depth=6\u001b[0m\n",
      "\u001b[34m[90]#011train-error:0.08193#011validation-error:372.199\u001b[0m\n",
      "\u001b[34m[10:43:49] src/tree/updater_prune.cc:74: tree pruning end, 1 roots, 42 extra nodes, 0 pruned nodes, max_depth=6\u001b[0m\n",
      "\u001b[34m[91]#011train-error:0.08193#011validation-error:372.199\u001b[0m\n",
      "\u001b[34m[10:43:49] src/tree/updater_prune.cc:74: tree pruning end, 1 roots, 34 extra nodes, 0 pruned nodes, max_depth=6\u001b[0m\n",
      "\u001b[34m[92]#011train-error:0.08193#011validation-error:372.199\u001b[0m\n",
      "\u001b[34m[10:43:49] src/tree/updater_prune.cc:74: tree pruning end, 1 roots, 34 extra nodes, 0 pruned nodes, max_depth=6\u001b[0m\n",
      "\u001b[34m[93]#011train-error:0.08193#011validation-error:377.215\u001b[0m\n",
      "\u001b[34m[10:43:49] src/tree/updater_prune.cc:74: tree pruning end, 1 roots, 60 extra nodes, 0 pruned nodes, max_depth=6\u001b[0m\n",
      "\u001b[34m[94]#011train-error:0.083053#011validation-error:377.215\u001b[0m\n",
      "\u001b[34m[10:43:49] src/tree/updater_prune.cc:74: tree pruning end, 1 roots, 34 extra nodes, 0 pruned nodes, max_depth=6\u001b[0m\n",
      "\u001b[34m[95]#011train-error:0.083053#011validation-error:372.514\u001b[0m\n",
      "\u001b[34m[10:43:49] src/tree/updater_prune.cc:74: tree pruning end, 1 roots, 34 extra nodes, 0 pruned nodes, max_depth=6\u001b[0m\n",
      "\u001b[34m[96]#011train-error:0.083053#011validation-error:377.215\u001b[0m\n",
      "\u001b[34m[10:43:49] src/tree/updater_prune.cc:74: tree pruning end, 1 roots, 32 extra nodes, 0 pruned nodes, max_depth=6\u001b[0m\n",
      "\u001b[34m[97]#011train-error:0.08193#011validation-error:377.215\u001b[0m\n",
      "\u001b[34m[10:43:49] src/tree/updater_prune.cc:74: tree pruning end, 1 roots, 32 extra nodes, 0 pruned nodes, max_depth=6\u001b[0m\n",
      "\u001b[34m[98]#011train-error:0.079686#011validation-error:377.215\u001b[0m\n",
      "\u001b[34m[10:43:49] src/tree/updater_prune.cc:74: tree pruning end, 1 roots, 30 extra nodes, 0 pruned nodes, max_depth=6\u001b[0m\n",
      "\u001b[34m[99]#011train-error:0.077441#011validation-error:377.215\u001b[0m\n",
      "\n",
      "2024-11-22 10:44:09 Training - Training image download completed. Training in progress.\n",
      "2024-11-22 10:44:09 Uploading - Uploading generated training model\n",
      "2024-11-22 10:44:09 Completed - Training job completed\n",
      "Training seconds: 104\n",
      "Billable seconds: 104\n"
     ]
    }
   ],
   "source": [
    "import sagemaker\n",
    "from sagemaker import get_execution_role\n",
    "from sagemaker.inputs import TrainingInput\n",
    "from sagemaker.estimator import Estimator\n",
    "from sagemaker.image_uris import retrieve\n",
    "\n",
    "# Get SageMaker execution role\n",
    "role = get_execution_role()\n",
    "\n",
    "# Retrieve the XGBoost container image URI for the region\n",
    "image_uri = retrieve('xgboost', region='us-east-1', version='latest')\n",
    "\n",
    "# Define S3 paths for training and validation data\n",
    "train_input = TrainingInput(f\"s3://{bucket_name}/model-training/final_train.csv\", content_type=\"csv\")\n",
    "test_input = TrainingInput(f\"s3://{bucket_name}/model-training/final_test.csv\", content_type=\"csv\")\n",
    "\n",
    "# Initialize the Estimator for XGBoost\n",
    "estimator = Estimator(\n",
    "    image_uri=image_uri,\n",
    "    role=role,\n",
    "    instance_count=1,\n",
    "    instance_type=\"ml.m5.large\",  # You can choose another instance type\n",
    "    sagemaker_session=sagemaker.Session()\n",
    ")\n",
    "\n",
    "# Define hyperparameters (optional)\n",
    "estimator.set_hyperparameters(\n",
    "    objective=\"binary:logistic\",  # For binary classification\n",
    "    num_round=100,  # Number of boosting rounds\n",
    "    max_depth=6,  # Maximum depth of trees\n",
    "    eta=0.1  # Learning rate\n",
    ")\n",
    "\n",
    "# Train the model using the input data\n",
    "estimator.fit({'train': train_input, 'validation': test_input})"
   ]
  },
  {
   "cell_type": "markdown",
   "id": "be70d282",
   "metadata": {},
   "source": [
    "Saving the model."
   ]
  },
  {
   "cell_type": "code",
   "execution_count": 41,
   "id": "f8c1cbec",
   "metadata": {},
   "outputs": [
    {
     "name": "stdout",
     "output_type": "stream",
     "text": [
      "Model saved at: s3://sagemaker-us-east-1-180188141800/xgboost-2024-11-22-10-41-35-494/output/model.tar.gz\n"
     ]
    }
   ],
   "source": [
    "model_artifact = estimator.model_data\n",
    "print(f\"Model saved at: {model_artifact}\")\n"
   ]
  },
  {
   "cell_type": "markdown",
   "id": "778d4863",
   "metadata": {},
   "source": [
    "I had no access to where the model was saved so I saved it to the folder I was working in"
   ]
  },
  {
   "cell_type": "code",
   "execution_count": 42,
   "id": "ea0f1591",
   "metadata": {},
   "outputs": [
    {
     "name": "stdout",
     "output_type": "stream",
     "text": [
      "Model artifact downloaded to: /home/ec2-user/SageMaker/en_us/model.tar.gz\n"
     ]
    }
   ],
   "source": [
    "import boto3\n",
    "import os\n",
    "\n",
    "# Model artifact path\n",
    "model_artifact = \"s3://sagemaker-us-east-1-180188141800/xgboost-2024-11-22-08-49-25-344/output/model.tar.gz\"\n",
    "\n",
    "# Parse S3 URL\n",
    "bucket_name = model_artifact.split('/')[2]\n",
    "key = '/'.join(model_artifact.split('/')[3:])\n",
    "\n",
    "# Local file path\n",
    "local_filename = os.path.join(os.getcwd(), \"model.tar.gz\")  # Save in current notebook directory\n",
    "\n",
    "# Download the file from S3\n",
    "s3_client = boto3.client('s3')\n",
    "s3_client.download_file(bucket_name, key, local_filename)\n",
    "\n",
    "print(f\"Model artifact downloaded to: {local_filename}\")"
   ]
  },
  {
   "cell_type": "code",
   "execution_count": 43,
   "id": "0592517c",
   "metadata": {},
   "outputs": [
    {
     "name": "stdout",
     "output_type": "stream",
     "text": [
      "Extracted files: ['xgboost-model']\n"
     ]
    }
   ],
   "source": [
    "import tarfile\n",
    "\n",
    "# Step 2: Extract the downloaded model\n",
    "extracted_model_dir = os.path.join(os.getcwd(), \"model\")\n",
    "os.makedirs(extracted_model_dir, exist_ok=True)\n",
    "\n",
    "# Extract the tar.gz file\n",
    "with tarfile.open(local_filename, \"r:gz\") as tar:\n",
    "    tar.extractall(path=extracted_model_dir)\n",
    "\n",
    "# Check the contents of the extracted files (typically you should see a model file like xgboost-model)\n",
    "print(f\"Extracted files: {os.listdir(extracted_model_dir)}\")"
   ]
  },
  {
   "cell_type": "code",
   "execution_count": 44,
   "id": "afb6c353",
   "metadata": {},
   "outputs": [
    {
     "name": "stdout",
     "output_type": "stream",
     "text": [
      "Listing directory contents:\n",
      "['xgboost-model']\n"
     ]
    }
   ],
   "source": [
    "import os\n",
    "\n",
    "extracted_model_dir = '/home/ec2-user/SageMaker/en_us/model'\n",
    "print(\"Listing directory contents:\")\n",
    "print(os.listdir(extracted_model_dir))  # List contents to verify the model file location"
   ]
  },
  {
   "cell_type": "code",
   "execution_count": null,
   "id": "7e855c6c",
   "metadata": {},
   "outputs": [],
   "source": [
    "pip install xgboost==1.7.0.post0"
   ]
  },
  {
   "cell_type": "code",
   "execution_count": null,
   "id": "45ccddda",
   "metadata": {},
   "outputs": [],
   "source": [
    "import xgboost as xgb\n",
    "\n",
    "# Path to the model file\n",
    "extracted_model_dir = '/home/ec2-user/SageMaker/en_us/model'\n",
    "model_path = os.path.join(extracted_model_dir, 'xgboost-model')  # Corrected model path\n",
    "\n",
    "# Load the trained XGBoost model\n",
    "model = xgb.Booster()\n",
    "model.load_model(model_path)\n",
    "\n",
    "print(\"Model loaded successfully.\")"
   ]
  },
  {
   "cell_type": "markdown",
   "id": "818298e1",
   "metadata": {},
   "source": [
    "## Model training and saving it to JSON"
   ]
  },
  {
   "cell_type": "markdown",
   "id": "3463a073",
   "metadata": {},
   "source": [
    "This was an alternative route because the first way I trained the model, it was always giving me an error that I could bypass so this was the next possible way."
   ]
  },
  {
   "cell_type": "code",
   "execution_count": null,
   "id": "8cc73248",
   "metadata": {},
   "outputs": [],
   "source": [
    "import xgboost as xgb\n",
    "import pandas as pd\n",
    "import numpy as np\n",
    "from sklearn.datasets import make_classification\n",
    "from sklearn.model_selection import train_test_split\n",
    "\n",
    "# Create a synthetic dataset for demonstration\n",
    "X, y = make_classification(n_samples=1000, n_features=10, n_classes=2, random_state=42)\n",
    "\n",
    "# Split the dataset into training and validation sets\n",
    "X_train, X_valid, y_train, y_valid = train_test_split(X, y, test_size=0.2, random_state=42)\n",
    "\n",
    "# Convert to DMatrix format, which is the internal format XGBoost uses\n",
    "train_data = xgb.DMatrix(X_train, label=y_train)\n",
    "valid_data = xgb.DMatrix(X_valid, label=y_valid)\n",
    "\n",
    "# Set the parameters for the model\n",
    "params = {\n",
    "    'objective': 'binary:logistic',\n",
    "    'max_depth': 5,\n",
    "    'learning_rate': 0.1,\n",
    "    'eval_metric': 'logloss'\n",
    "}\n",
    "\n",
    "# Train the model\n",
    "model = xgb.train(\n",
    "    params,\n",
    "    train_data,\n",
    "    num_boost_round=100,\n",
    "    evals=[(valid_data, 'validation')]\n",
    ")\n",
    "\n",
    "print(\"Model training completed.\")"
   ]
  },
  {
   "cell_type": "markdown",
   "id": "0026cba9",
   "metadata": {},
   "source": [
    "Saving the model"
   ]
  },
  {
   "cell_type": "code",
   "execution_count": null,
   "id": "f2f9d39c",
   "metadata": {},
   "outputs": [],
   "source": [
    "# Save the trained model in JSON format\n",
    "model.save_model('xgboost_model.json')\n",
    "print(\"Model saved as JSON.\")"
   ]
  },
  {
   "cell_type": "code",
   "execution_count": null,
   "id": "c55fb8ef",
   "metadata": {},
   "outputs": [],
   "source": [
    "# Load the model from the saved JSON file\n",
    "loaded_model = xgb.Booster()\n",
    "loaded_model.load_model('xgboost_model.json')\n",
    "\n",
    "print(\"Model loaded successfully from JSON.\")"
   ]
  },
  {
   "cell_type": "markdown",
   "id": "bab00435",
   "metadata": {},
   "source": [
    "## Making predications"
   ]
  },
  {
   "cell_type": "code",
   "execution_count": 45,
   "id": "753f0084",
   "metadata": {},
   "outputs": [
    {
     "name": "stdout",
     "output_type": "stream",
     "text": [
      "Predictions: [0.9644629  0.8939147  0.9664167  0.87754655 0.87006694 0.9631706\n",
      " 0.96076024 0.84805214 0.9837409  0.8240473  0.79766065 0.8613753\n",
      " 0.79959553 0.8743405  0.9687968  0.8575629  0.96499413 0.89154845\n",
      " 0.95825374 0.85592633 0.9583745  0.9049056  0.9526385  0.94689935\n",
      " 0.95914024 0.8616236  0.9286715  0.968875   0.95879865 0.9812406\n",
      " 0.9664826  0.90511876 0.96864164 0.93375206 0.9707215  0.8931446\n",
      " 0.95565253 0.79015523 0.9522784  0.83183503 0.92595655 0.9268876\n",
      " 0.9013283  0.8319238  0.77497506 0.85196227 0.8336651  0.8292402\n",
      " 0.9763535  0.9683992  0.9801532  0.89415747 0.9763398  0.90715605\n",
      " 0.97244024 0.8240401  0.97655565 0.89658767 0.9734403  0.90076756\n",
      " 0.76287854 0.92008036 0.9708311  0.9789139  0.9721192  0.9306964\n",
      " 0.8539375  0.969927   0.97282785 0.93105686 0.942988   0.97672856\n",
      " 0.9640826  0.8448613  0.90990907 0.83265066 0.8531006  0.9361657\n",
      " 0.8124096  0.92803717 0.92643595 0.87420547 0.97029805 0.89188707\n",
      " 0.94191486 0.90139186 0.9380781  0.77415377 0.8657951  0.86982185\n",
      " 0.8668679  0.9075486  0.93479604 0.93937093 0.9693648  0.92819\n",
      " 0.88730586 0.87576145 0.8492354  0.8386442 ]\n"
     ]
    }
   ],
   "source": [
    "# Load the saved model (in JSON format)\n",
    "loaded_model = xgb.Booster()\n",
    "loaded_model.load_model('xgboost_model.json')\n",
    "\n",
    "# Prepare the test data (use new unseen data for predictions)\n",
    "# Example: Using synthetic test data\n",
    "X_test = np.random.rand(100, 10)  # 100 samples with 10 features (you can replace this with your own test data)\n",
    "dtest = xgb.DMatrix(X_test)\n",
    "\n",
    "# Make predictions\n",
    "predictions = loaded_model.predict(dtest)\n",
    "\n",
    "# Print or process the predictions\n",
    "print(\"Predictions:\", predictions)\n"
   ]
  },
  {
   "cell_type": "code",
   "execution_count": 53,
   "id": "848feae9",
   "metadata": {},
   "outputs": [
    {
     "name": "stdout",
     "output_type": "stream",
     "text": [
      "   PassengerId  Survived\n",
      "0          892         1\n",
      "1          893         1\n",
      "2          894         1\n",
      "3          895         1\n",
      "4          896         1\n"
     ]
    }
   ],
   "source": [
    "import numpy as np\n",
    "import xgboost as xgb\n",
    "import pandas as pd\n",
    "\n",
    "# Step 1: Load the saved model (in JSON format)\n",
    "loaded_model = xgb.Booster()\n",
    "loaded_model.load_model('xgboost_model.json')\n",
    "\n",
    "# Step 2: Load the cleaned test data without header (since the CSV file does not contain headers)\n",
    "test_data = pd.read_csv('final_test.csv', header=None)  # No header in the file\n",
    "\n",
    "# Step 3: Extract PassengerId (the first column)\n",
    "passenger_ids = test_data.iloc[:, 0]  # Assuming PassengerId is in the first column\n",
    "\n",
    "# Step 4: Preprocessing the data (if necessary)\n",
    "# Ensure the data is cleaned and there are no missing values\n",
    "if test_data.isnull().values.any():\n",
    "    print(\"Data contains missing values. Filling them with the median values...\")\n",
    "    test_data.fillna(test_data.median(), inplace=True)  # Fill missing values with median\n",
    "\n",
    "# Step 5: Extract the features (drop the first column which is PassengerId)\n",
    "X_test = test_data.drop([0], axis=1)  # Drop the first column (PassengerId)\n",
    "\n",
    "# Step 6: Convert the features into the DMatrix format for XGBoost\n",
    "dtest = xgb.DMatrix(X_test)\n",
    "\n",
    "# Step 7: Make predictions using the loaded model\n",
    "predictions = loaded_model.predict(dtest)\n",
    "\n",
    "# Step 8: Convert the predictions to binary (0 or 1) using a threshold of 0.5\n",
    "binary_predictions = (predictions > 0.9).astype(int)\n",
    "\n",
    "# Step 9: Create the output dataframe with 'PassengerId' and 'Survived' (binary predictions)\n",
    "output = pd.DataFrame({\n",
    "    'PassengerId': passenger_ids,  # Extracted PassengerId\n",
    "    'Survived': binary_predictions\n",
    "})\n",
    "\n",
    "# Step 10: Save the predictions to a CSV file\n",
    "output.to_csv('predictions.csv', index=False)\n",
    "\n",
    "# Print the first few rows of the predictions to check\n",
    "print(output.head())"
   ]
  },
  {
   "cell_type": "markdown",
   "id": "b89dfd7a",
   "metadata": {},
   "source": [
    "The predications stated that everyone survived which we all know is not true."
   ]
  },
  {
   "cell_type": "code",
   "execution_count": 51,
   "id": "b0b5bd97",
   "metadata": {},
   "outputs": [
    {
     "name": "stdout",
     "output_type": "stream",
     "text": [
      "Raw Predictions: [0.9889081  0.95638937 0.9889081  0.91145205 0.97217554 0.91145205\n",
      " 0.98995906 0.9479997  0.98995906 0.92332613]\n"
     ]
    }
   ],
   "source": [
    "print(\"Raw Predictions:\", predictions[:10])  # Print the first 10 raw predictions"
   ]
  },
  {
   "cell_type": "markdown",
   "id": "03500498",
   "metadata": {},
   "source": [
    "I plotted a histogramt to check the distrubution"
   ]
  },
  {
   "cell_type": "code",
   "execution_count": 55,
   "id": "5e22570e",
   "metadata": {},
   "outputs": [
    {
     "data": {
      "image/png": "[encoded data removed]",
      "text/plain": [
       "<Figure size 640x480 with 1 Axes>"
      ]
     },
     "metadata": {},
     "output_type": "display_data"
    }
   ],
   "source": [
    "import matplotlib.pyplot as plt\n",
    "\n",
    "# Plot histogram of predictions to check their distribution\n",
    "plt.hist(predictions, bins=50)\n",
    "plt.title('Distribution of Model Predictions')\n",
    "plt.xlabel('Prediction Probability')\n",
    "plt.ylabel('Frequency')\n",
    "plt.show()\n"
   ]
  },
  {
   "cell_type": "markdown",
   "id": "da805e47",
   "metadata": {},
   "source": [
    "I actually uploaded it to Kaggle and wanted to see the accuracy I would get:"
   ]
  },
  {
   "attachments": {
    "image.png": {
     "image/png": "[encoded data removed]"
    }
   },
   "cell_type": "markdown",
   "id": "30699204",
   "metadata": {},
   "source": [
    "![image.png](attachment:image.png)"
   ]
  }
 ],
 "metadata": {
  "kernelspec": {
   "display_name": "conda_python3",
   "language": "python",
   "name": "conda_python3"
  },
  "language_info": {
   "codemirror_mode": {
    "name": "ipython",
    "version": 3
   },
   "file_extension": ".py",
   "mimetype": "text/x-python",
   "name": "python",
   "nbconvert_exporter": "python",
   "pygments_lexer": "ipython3",
   "version": "3.10.15"
  }
 },
 "nbformat": 4,
 "nbformat_minor": 5
}
